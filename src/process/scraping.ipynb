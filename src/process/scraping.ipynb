{
 "cells": [
  {
   "cell_type": "code",
   "execution_count": 3,
   "id": "25f53266-9838-43f6-9a34-585c1a0299b0",
   "metadata": {},
   "outputs": [],
   "source": [
    "import os\n",
    "import requests\n",
    "import zipfile\n",
    "import io"
   ]
  },
  {
   "cell_type": "code",
   "execution_count": 4,
   "id": "0f3f164d-dfa0-412f-85d7-21457c621797",
   "metadata": {},
   "outputs": [
    {
     "name": "stdout",
     "output_type": "stream",
     "text": [
      "Téléchargement de l'archive...\n",
      "Extraction de l'archive...\n",
      "Le corpus a été téléchargé et extrait dans le dossier 'data/UD_French-GSD'.\n"
     ]
    }
   ],
   "source": [
    "\n",
    "\n",
    "# URL de l'archive ZIP du corpus\n",
    "url = \"https://github.com/UniversalDependencies/UD_French-GSD/archive/refs/heads/master.zip\"\n",
    "# Nom du dossier de destination\n",
    "dest_dir = \"data/UD_French-GSD\"\n",
    "\n",
    "# Créer le dossier de destination s'il n'existe pas\n",
    "os.makedirs(dest_dir, exist_ok=True)\n",
    "\n",
    "# Télécharger l'archive ZIP\n",
    "print(\"Téléchargement de l'archive...\")\n",
    "response = requests.get(url)\n",
    "response.raise_for_status()\n",
    "\n",
    "# Extraire l'archive ZIP\n",
    "print(\"Extraction de l'archive...\")\n",
    "with zipfile.ZipFile(io.BytesIO(response.content)) as zip_ref:\n",
    "    zip_ref.extractall(dest_dir)\n",
    "\n",
    "print(f\"Le corpus a été téléchargé et extrait dans le dossier '{dest_dir}'.\")\n",
    "\n"
   ]
  },
  {
   "cell_type": "code",
   "execution_count": null,
   "id": "1764c186-6411-49bf-a191-4b117e653dbc",
   "metadata": {},
   "outputs": [],
   "source": []
  }
 ],
 "metadata": {
  "kernelspec": {
   "display_name": "Python 3 (ipykernel)",
   "language": "python",
   "name": "python3"
  },
  "language_info": {
   "codemirror_mode": {
    "name": "ipython",
    "version": 3
   },
   "file_extension": ".py",
   "mimetype": "text/x-python",
   "name": "python",
   "nbconvert_exporter": "python",
   "pygments_lexer": "ipython3",
   "version": "3.13.0"
  }
 },
 "nbformat": 4,
 "nbformat_minor": 5
}
