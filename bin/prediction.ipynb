{
 "cells": [
  {
   "cell_type": "code",
   "execution_count": null,
   "id": "056d62c0-5c9d-4b07-99c8-4bb4e425d0f5",
   "metadata": {},
   "outputs": [],
   "source": [
    "from transformers import AutoTokenizer, AutoModelForTokenClassification\n",
    "import torch\n",
    "\n",
    "def predict_pos(sentence_tokens, model_dir, id2label):\n",
    "    # Charger modèle et tokenizer fine-tunés\n",
    "    tokenizer = AutoTokenizer.from_pretrained(model_dir)\n",
    "    model = AutoModelForTokenClassification.from_pretrained(model_dir)\n",
    "\n",
    "    # Tokenisation avec alignement\n",
    "    encoding = tokenizer(sentence_tokens, is_split_into_words=True, return_tensors=\"pt\", truncation=True)\n",
    "\n",
    "    # Prédiction\n",
    "    with torch.no_grad():\n",
    "        outputs = model(**encoding)\n",
    "    logits = outputs.logits\n",
    "    predictions = torch.argmax(logits, dim=2)\n",
    "\n",
    "    # Associer les tokens initiaux à leurs étiquettes\n",
    "    word_ids = encoding.word_ids()\n",
    "    final_preds = []\n",
    "    for idx, word_id in enumerate(word_ids):\n",
    "        if word_id is not None and (idx == 0 or word_ids[idx] != word_ids[idx - 1]):\n",
    "            pred_label = id2label[predictions[0][idx].item()]\n",
    "            final_preds.append((sentence_tokens[word_id], pred_label))\n",
    "\n",
    "    return final_preds\n",
    "\n",
    "# Exemple d'utilisation :\n",
    "if __name__ == \"__main__\":\n",
    "    model_dir = \"./pos_model\"  # dossier du modèle fine-tuné\n",
    "    # ⚠️ id2label doit être le même mapping qu’au TP4/TP5\n",
    "    id2label = {0: \"ADJ\", 1: \"NOUN\", 2: \"VERB\", 3: \"DET\", 4: \"ADV\", 5: \"PUNCT\", 6: \"ADP\", 7: \"PRON\", 8: \"PROPN\"}  # exemple\n",
    "    phrase = \"Je mange une pomme verte .\"\n",
    "    tokens = phrase.split()\n",
    "\n",
    "    predictions = predict_pos(tokens, model_dir, id2label)\n",
    "    for word, tag in predictions:\n",
    "        print(f\"{word:>10} --> {tag}\")\n"
   ]
  }
 ],
 "metadata": {
  "kernelspec": {
   "display_name": "Python 3 (ipykernel)",
   "language": "python",
   "name": "python3"
  },
  "language_info": {
   "codemirror_mode": {
    "name": "ipython",
    "version": 3
   },
   "file_extension": ".py",
   "mimetype": "text/x-python",
   "name": "python",
   "nbconvert_exporter": "python",
   "pygments_lexer": "ipython3",
   "version": "3.13.0"
  }
 },
 "nbformat": 4,
 "nbformat_minor": 5
}
